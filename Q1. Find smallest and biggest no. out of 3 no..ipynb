{
 "cells": [
  {
   "cell_type": "markdown",
   "id": "462ec97c",
   "metadata": {},
   "source": [
    "# Write a program to find the highest and smallest no. out of 3 no.?"
   ]
  },
  {
   "cell_type": "code",
   "execution_count": 2,
   "id": "fb0c936a",
   "metadata": {},
   "outputs": [
    {
     "name": "stdout",
     "output_type": "stream",
     "text": [
      "Enter the First no:78\n",
      "Enter the Second no:112\n",
      "Enter the Third no:56\n",
      "b is biggest no. 112\n",
      "c is smallest no. 56\n"
     ]
    }
   ],
   "source": [
    "a=int(input(\"Enter the First no:\"))\n",
    "b=int(input(\"Enter the Second no:\"))\n",
    "c=int(input(\"Enter the Third no:\"))\n",
    "if(a>b and a>c):\n",
    "    print(\"a is biggest no.\",a)\n",
    "    if(b>c):\n",
    "        print(\"c is smallest no.\",c)\n",
    "    else:\n",
    "        print(\"b is smallest no.\",b)\n",
    "elif(b>a and b>c):\n",
    "    print(\"b is biggest no.\",b)\n",
    "    if(a>c):\n",
    "        print(\"c is smallest no.\",c)\n",
    "    else:\n",
    "        print(\"a is smallest no.\",a)\n",
    "elif(c>a and c>b):\n",
    "    print(\" c is biggest no.\",c)\n",
    "    if(a>b):\n",
    "        print(\"b is the smallest no.\",b)\n",
    "    else:\n",
    "        print(\"a is the smallest\",a)\n"
   ]
  },
  {
   "cell_type": "code",
   "execution_count": null,
   "id": "fb9683d1",
   "metadata": {},
   "outputs": [],
   "source": []
  }
 ],
 "metadata": {
  "kernelspec": {
   "display_name": "Python 3 (ipykernel)",
   "language": "python",
   "name": "python3"
  },
  "language_info": {
   "codemirror_mode": {
    "name": "ipython",
    "version": 3
   },
   "file_extension": ".py",
   "mimetype": "text/x-python",
   "name": "python",
   "nbconvert_exporter": "python",
   "pygments_lexer": "ipython3",
   "version": "3.9.7"
  }
 },
 "nbformat": 4,
 "nbformat_minor": 5
}
