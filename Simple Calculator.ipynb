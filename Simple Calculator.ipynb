{
 "cells": [
  {
   "cell_type": "markdown",
   "id": "1cdc4f98",
   "metadata": {},
   "source": [
    "# Simple Calci"
   ]
  },
  {
   "cell_type": "code",
   "execution_count": 1,
   "id": "057cddfe",
   "metadata": {},
   "outputs": [
    {
     "name": "stdout",
     "output_type": "stream",
     "text": [
      "Enter the first no.:78\n",
      "Enter the second no.:9\n",
      "Enter the choice +, -, *, /:*\n",
      "Result: 702\n",
      "Wanna Continue Y/N:?y\n",
      "Enter the first no.:9\n",
      "Enter the second no.:12\n",
      "Enter the choice +, -, *, /:+\n",
      "Result: 21\n",
      "Wanna Continue Y/N:?y\n",
      "Enter the first no.:36\n",
      "Enter the second no.:6\n",
      "Enter the choice +, -, *, /:/\n",
      "Result: 6.0\n",
      "Wanna Continue Y/N:?y\n",
      "Enter the first no.:78\n",
      "Enter the second no.:9\n",
      "Enter the choice +, -, *, /:**\n",
      "Incorrect choice\n",
      "Wanna Continue Y/N:?n\n"
     ]
    }
   ],
   "source": [
    "import operator\n",
    "while(1):\n",
    "    no1=int(input(\"Enter the first no.:\"))\n",
    "    no2=int(input(\"Enter the second no.:\"))\n",
    "    choice=input(\"Enter the choice +, -, *, /:\")\n",
    "    if(choice==\"+\"):\n",
    "        res=no1+no2\n",
    "        print(\"Result:\", res)\n",
    "    elif(choice==\"-\"):\n",
    "        res=operator.sub(no1,no2)\n",
    "        print(\"Result:\", res)\n",
    "    elif(choice==\"*\"):\n",
    "        res=no1*no2\n",
    "        print(\"Result:\", res)\n",
    "    elif(choice==\"/\"):\n",
    "        res=no1/no2\n",
    "        print(\"Result:\", res)\n",
    "    else:\n",
    "        print(\"Incorrect choice\")\n",
    "    c=input(\"Wanna Continue Y/N:?\")\n",
    "    if(c==\"N\" or c==\"n\"):\n",
    "        break"
   ]
  }
 ],
 "metadata": {
  "kernelspec": {
   "display_name": "Python 3 (ipykernel)",
   "language": "python",
   "name": "python3"
  },
  "language_info": {
   "codemirror_mode": {
    "name": "ipython",
    "version": 3
   },
   "file_extension": ".py",
   "mimetype": "text/x-python",
   "name": "python",
   "nbconvert_exporter": "python",
   "pygments_lexer": "ipython3",
   "version": "3.9.7"
  }
 },
 "nbformat": 4,
 "nbformat_minor": 5
}
